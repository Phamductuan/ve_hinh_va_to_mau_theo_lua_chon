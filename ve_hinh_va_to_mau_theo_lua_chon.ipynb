{
 "cells": [
  {
   "cell_type": "code",
   "execution_count": 7,
   "id": "7f1b0aaf",
   "metadata": {},
   "outputs": [
    {
     "name": "stdout",
     "output_type": "stream",
     "text": [
      "pick hinh dang square or circle: \n",
      "square\n",
      "color pick red, blue or yellow: \n",
      "red\n"
     ]
    }
   ],
   "source": [
    "import turtle\n",
    "t = turtle. Turtle()\n",
    "print(\"pick hinh dang square or circle: \")\n",
    "hinh_dang = input()\n",
    "if hinh_dang == \"square\":\n",
    "    print(\"color pick red, blue or yellow: \")\n",
    "    mausac = input()\n",
    "    t.fillcolor(mausac)\n",
    "    t.begin_fill()\n",
    "    for i in range(2):\n",
    "        t.fd(100)\n",
    "        t.lt(90)\n",
    "        t.fd(80)\n",
    "        t.lt(90)\n",
    "    t.end_fill()\n",
    "if hinh_dang == \"circle\":\n",
    "    print(\"color pick red, blue or yellow: \")\n",
    "    mausac = input()\n",
    "    t.fillcolor(mausac)\n",
    "    t.begin_fill()\n",
    "    t.circle(80)\n",
    "    t.end_fill()\n",
    "turtle.done()\n",
    "    \n",
    "    "
   ]
  }
 ],
 "metadata": {
  "kernelspec": {
   "display_name": "Python 3 (ipykernel)",
   "language": "python",
   "name": "python3"
  },
  "language_info": {
   "codemirror_mode": {
    "name": "ipython",
    "version": 3
   },
   "file_extension": ".py",
   "mimetype": "text/x-python",
   "name": "python",
   "nbconvert_exporter": "python",
   "pygments_lexer": "ipython3",
   "version": "3.9.6"
  }
 },
 "nbformat": 4,
 "nbformat_minor": 5
}
